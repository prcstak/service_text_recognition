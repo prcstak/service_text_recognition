{
  "nbformat": 4,
  "nbformat_minor": 0,
  "metadata": {
    "colab": {
      "provenance": [],
      "toc_visible": true,
      "authorship_tag": "ABX9TyOED700/cddG0Tm/qdTAl6k",
      "include_colab_link": true
    },
    "kernelspec": {
      "name": "python3",
      "display_name": "Python 3"
    },
    "language_info": {
      "name": "python"
    }
  },
  "cells": [
    {
      "cell_type": "markdown",
      "metadata": {
        "id": "view-in-github",
        "colab_type": "text"
      },
      "source": [
        "<a href=\"https://colab.research.google.com/github/prcstak/service_text_recognition/blob/main/notebooks/Template.ipynb\" target=\"_parent\"><img src=\"https://colab.research.google.com/assets/colab-badge.svg\" alt=\"Open In Colab\"/></a>"
      ]
    },
    {
      "cell_type": "code",
      "execution_count": null,
      "metadata": {
        "id": "V64ZtzSBp_G5"
      },
      "outputs": [],
      "source": [
        "!pip install wandb -qU"
      ]
    },
    {
      "cell_type": "code",
      "source": [
        "import wandb\n",
        "wandb.login()"
      ],
      "metadata": {
        "id": "G7RFgaC6qA2O"
      },
      "execution_count": null,
      "outputs": []
    },
    {
      "cell_type": "markdown",
      "source": [
        "# Config"
      ],
      "metadata": {
        "id": "lEvjQolVptv5"
      }
    },
    {
      "cell_type": "code",
      "source": [
        "# Start a run, tracking hyperparameters\n",
        "run = wandb.init(\n",
        "    # set the wandb project where this run will be logged\n",
        "    project=\"my-awesome-project\",\n",
        "    # track hyperparameters and run metadata with wandb.config\n",
        "    config={\n",
        "        \"layer_1\": 512,\n",
        "        \"activation_1\": \"relu\",\n",
        "        \"dropout\": random.uniform(0.01, 0.90),\n",
        "        \"layer_2\": 10,\n",
        "        \"activation_2\": \"softmax\",\n",
        "        \"optimizer\": \"sgd\",\n",
        "        \"loss\": \"sparse_categorical_crossentropy\",\n",
        "        \"metric\": \"accuracy\",\n",
        "        \"epoch\": 8,\n",
        "        \"batch_size\": 254,\n",
        "    },\n",
        ")\n",
        "\n",
        "config = run.config"
      ],
      "metadata": {
        "id": "HwTcymjqpA6c"
      },
      "execution_count": null,
      "outputs": []
    },
    {
      "cell_type": "markdown",
      "source": [
        "# Experiment code:\n",
        "\n",
        "\n",
        "---\n",
        "\n"
      ],
      "metadata": {
        "id": "rpefF8Q8pKeU"
      }
    },
    {
      "cell_type": "markdown",
      "source": [
        "##Imports"
      ],
      "metadata": {
        "id": "AtV7TeTpp8DL"
      }
    },
    {
      "cell_type": "code",
      "source": [
        "# Paste imports here.."
      ],
      "metadata": {
        "id": "VOsQqxD3pmJ4"
      },
      "execution_count": null,
      "outputs": []
    },
    {
      "cell_type": "markdown",
      "source": [
        "## Model"
      ],
      "metadata": {
        "id": "CAHDc3pWp_0s"
      }
    },
    {
      "cell_type": "code",
      "source": [
        "# Paste code here.."
      ],
      "metadata": {
        "id": "hiT13wM4pYx3"
      },
      "execution_count": null,
      "outputs": []
    },
    {
      "cell_type": "markdown",
      "source": [
        "\n",
        "\n",
        "---\n",
        "\n"
      ],
      "metadata": {
        "id": "hfVIakSypXJo"
      }
    },
    {
      "cell_type": "code",
      "source": [
        "run.finish()"
      ],
      "metadata": {
        "id": "Yd-wip2ppI-E"
      },
      "execution_count": null,
      "outputs": []
    }
  ]
}